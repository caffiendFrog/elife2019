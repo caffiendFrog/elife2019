{
 "cells": [
  {
   "cell_type": "code",
   "execution_count": 1,
   "metadata": {},
   "outputs": [],
   "source": [
    "import pandas as pd"
   ]
  },
  {
   "cell_type": "code",
   "execution_count": 4,
   "metadata": {},
   "outputs": [],
   "source": [
    "data = pd.read_csv(\"wikidata fapesp doutorado malária - Sheet1 (1).csv\")"
   ]
  },
  {
   "cell_type": "code",
   "execution_count": 5,
   "metadata": {},
   "outputs": [
    {
     "data": {
      "text/html": [
       "<div>\n",
       "<style scoped>\n",
       "    .dataframe tbody tr th:only-of-type {\n",
       "        vertical-align: middle;\n",
       "    }\n",
       "\n",
       "    .dataframe tbody tr th {\n",
       "        vertical-align: top;\n",
       "    }\n",
       "\n",
       "    .dataframe thead th {\n",
       "        text-align: right;\n",
       "    }\n",
       "</style>\n",
       "<table border=\"1\" class=\"dataframe\">\n",
       "  <thead>\n",
       "    <tr style=\"text-align: right;\">\n",
       "      <th></th>\n",
       "      <th>Unnamed: 0</th>\n",
       "      <th>Unnamed: 1</th>\n",
       "      <th>instancia de</th>\n",
       "      <th>espécie a que pertence</th>\n",
       "      <th>hospedeiro</th>\n",
       "      <th>substitui **</th>\n",
       "      <th>é substituido por ***</th>\n",
       "      <th>Unnamed: 7</th>\n",
       "      <th>quickstatement command</th>\n",
       "    </tr>\n",
       "  </thead>\n",
       "  <tbody>\n",
       "    <tr>\n",
       "      <th>0</th>\n",
       "      <td>NaN</td>\n",
       "      <td>NaN</td>\n",
       "      <td>tipo celular</td>\n",
       "      <td>plasmodium falciparum</td>\n",
       "      <td>NaN</td>\n",
       "      <td>NaN</td>\n",
       "      <td>NaN</td>\n",
       "      <td>NaN</td>\n",
       "      <td>NaN</td>\n",
       "    </tr>\n",
       "    <tr>\n",
       "      <th>1</th>\n",
       "      <td>Len</td>\n",
       "      <td>Lpt</td>\n",
       "      <td>P31</td>\n",
       "      <td>P703</td>\n",
       "      <td>P2975</td>\n",
       "      <td>P1365</td>\n",
       "      <td>P1366</td>\n",
       "      <td>Q</td>\n",
       "      <td>NaN</td>\n",
       "    </tr>\n",
       "    <tr>\n",
       "      <th>2</th>\n",
       "      <td>NaN</td>\n",
       "      <td>Oocineto de Plasmodium</td>\n",
       "      <td>NaN</td>\n",
       "      <td>NaN</td>\n",
       "      <td>NaN</td>\n",
       "      <td>NaN</td>\n",
       "      <td>NaN</td>\n",
       "      <td>NaN</td>\n",
       "      <td>NaN</td>\n",
       "    </tr>\n",
       "    <tr>\n",
       "      <th>3</th>\n",
       "      <td>NaN</td>\n",
       "      <td>Ovócito de Plasmodium</td>\n",
       "      <td>NaN</td>\n",
       "      <td>NaN</td>\n",
       "      <td>NaN</td>\n",
       "      <td>NaN</td>\n",
       "      <td>NaN</td>\n",
       "      <td>NaN</td>\n",
       "      <td>NaN</td>\n",
       "    </tr>\n",
       "    <tr>\n",
       "      <th>4</th>\n",
       "      <td>NaN</td>\n",
       "      <td>Esporozoíto de Plasmodium</td>\n",
       "      <td>NaN</td>\n",
       "      <td>NaN</td>\n",
       "      <td>NaN</td>\n",
       "      <td>NaN</td>\n",
       "      <td>NaN</td>\n",
       "      <td>NaN</td>\n",
       "      <td>NaN</td>\n",
       "    </tr>\n",
       "  </tbody>\n",
       "</table>\n",
       "</div>"
      ],
      "text/plain": [
       "  Unnamed: 0                   Unnamed: 1  instancia de  \\\n",
       "0        NaN                          NaN  tipo celular   \n",
       "1        Len                          Lpt           P31   \n",
       "2        NaN      Oocineto de Plasmodium            NaN   \n",
       "3        NaN       Ovócito de Plasmodium            NaN   \n",
       "4        NaN  Esporozoíto de Plasmodium             NaN   \n",
       "\n",
       "  espécie a que pertence hospedeiro substitui ** é substituido por ***  \\\n",
       "0  plasmodium falciparum        NaN          NaN                   NaN   \n",
       "1                   P703      P2975        P1365                 P1366   \n",
       "2                    NaN        NaN          NaN                   NaN   \n",
       "3                    NaN        NaN          NaN                   NaN   \n",
       "4                    NaN        NaN          NaN                   NaN   \n",
       "\n",
       "  Unnamed: 7 quickstatement command  \n",
       "0        NaN                    NaN  \n",
       "1          Q                    NaN  \n",
       "2        NaN                    NaN  \n",
       "3        NaN                    NaN  \n",
       "4        NaN                    NaN  "
      ]
     },
     "execution_count": 5,
     "metadata": {},
     "output_type": "execute_result"
    }
   ],
   "source": [
    "data.head()"
   ]
  },
  {
   "cell_type": "code",
   "execution_count": 7,
   "metadata": {},
   "outputs": [
    {
     "data": {
      "text/html": [
       "<div>\n",
       "<style scoped>\n",
       "    .dataframe tbody tr th:only-of-type {\n",
       "        vertical-align: middle;\n",
       "    }\n",
       "\n",
       "    .dataframe tbody tr th {\n",
       "        vertical-align: top;\n",
       "    }\n",
       "\n",
       "    .dataframe thead th {\n",
       "        text-align: right;\n",
       "    }\n",
       "</style>\n",
       "<table border=\"1\" class=\"dataframe\">\n",
       "  <thead>\n",
       "    <tr style=\"text-align: right;\">\n",
       "      <th></th>\n",
       "      <th>quickstatement command</th>\n",
       "    </tr>\n",
       "  </thead>\n",
       "  <tbody>\n",
       "    <tr>\n",
       "      <th>0</th>\n",
       "      <td>NaN</td>\n",
       "    </tr>\n",
       "    <tr>\n",
       "      <th>1</th>\n",
       "      <td>NaN</td>\n",
       "    </tr>\n",
       "    <tr>\n",
       "      <th>2</th>\n",
       "      <td>NaN</td>\n",
       "    </tr>\n",
       "    <tr>\n",
       "      <th>3</th>\n",
       "      <td>NaN</td>\n",
       "    </tr>\n",
       "    <tr>\n",
       "      <th>4</th>\n",
       "      <td>NaN</td>\n",
       "    </tr>\n",
       "    <tr>\n",
       "      <th>5</th>\n",
       "      <td>NaN</td>\n",
       "    </tr>\n",
       "    <tr>\n",
       "      <th>6</th>\n",
       "      <td>NaN</td>\n",
       "    </tr>\n",
       "    <tr>\n",
       "      <th>7</th>\n",
       "      <td>NaN</td>\n",
       "    </tr>\n",
       "    <tr>\n",
       "      <th>8</th>\n",
       "      <td>NaN</td>\n",
       "    </tr>\n",
       "    <tr>\n",
       "      <th>9</th>\n",
       "      <td>NaN</td>\n",
       "    </tr>\n",
       "    <tr>\n",
       "      <th>10</th>\n",
       "      <td>NaN</td>\n",
       "    </tr>\n",
       "    <tr>\n",
       "      <th>11</th>\n",
       "      <td>NaN</td>\n",
       "    </tr>\n",
       "    <tr>\n",
       "      <th>12</th>\n",
       "      <td>NaN</td>\n",
       "    </tr>\n",
       "    <tr>\n",
       "      <th>13</th>\n",
       "      <td>NaN</td>\n",
       "    </tr>\n",
       "    <tr>\n",
       "      <th>14</th>\n",
       "      <td>NaN</td>\n",
       "    </tr>\n",
       "    <tr>\n",
       "      <th>15</th>\n",
       "      <td>NaN</td>\n",
       "    </tr>\n",
       "    <tr>\n",
       "      <th>16</th>\n",
       "      <td>CREATE\\nLAST|Len|\"Plasmodium falciparum oocyst...</td>\n",
       "    </tr>\n",
       "    <tr>\n",
       "      <th>17</th>\n",
       "      <td>\\nCREATE\\nLAST|Len|\"Plasmodium falciparum spor...</td>\n",
       "    </tr>\n",
       "    <tr>\n",
       "      <th>18</th>\n",
       "      <td>\\nCREATE\\nLAST|Len|\"liver schizont of Plasmodi...</td>\n",
       "    </tr>\n",
       "    <tr>\n",
       "      <th>19</th>\n",
       "      <td>CREATE\\nLAST|Len|\"Plasmodium falciparum merozo...</td>\n",
       "    </tr>\n",
       "    <tr>\n",
       "      <th>20</th>\n",
       "      <td>NaN</td>\n",
       "    </tr>\n",
       "    <tr>\n",
       "      <th>21</th>\n",
       "      <td>NaN</td>\n",
       "    </tr>\n",
       "    <tr>\n",
       "      <th>22</th>\n",
       "      <td>NaN</td>\n",
       "    </tr>\n",
       "    <tr>\n",
       "      <th>23</th>\n",
       "      <td>NaN</td>\n",
       "    </tr>\n",
       "  </tbody>\n",
       "</table>\n",
       "</div>"
      ],
      "text/plain": [
       "                               quickstatement command\n",
       "0                                                 NaN\n",
       "1                                                 NaN\n",
       "2                                                 NaN\n",
       "3                                                 NaN\n",
       "4                                                 NaN\n",
       "5                                                 NaN\n",
       "6                                                 NaN\n",
       "7                                                 NaN\n",
       "8                                                 NaN\n",
       "9                                                 NaN\n",
       "10                                                NaN\n",
       "11                                                NaN\n",
       "12                                                NaN\n",
       "13                                                NaN\n",
       "14                                                NaN\n",
       "15                                                NaN\n",
       "16  CREATE\\nLAST|Len|\"Plasmodium falciparum oocyst...\n",
       "17  \\nCREATE\\nLAST|Len|\"Plasmodium falciparum spor...\n",
       "18  \\nCREATE\\nLAST|Len|\"liver schizont of Plasmodi...\n",
       "19  CREATE\\nLAST|Len|\"Plasmodium falciparum merozo...\n",
       "20                                                NaN\n",
       "21                                                NaN\n",
       "22                                                NaN\n",
       "23                                                NaN"
      ]
     },
     "execution_count": 7,
     "metadata": {},
     "output_type": "execute_result"
    }
   ],
   "source": [
    "data[['quickstatement command']]"
   ]
  },
  {
   "cell_type": "code",
   "execution_count": 10,
   "metadata": {},
   "outputs": [
    {
     "data": {
      "text/html": [
       "<div>\n",
       "<style scoped>\n",
       "    .dataframe tbody tr th:only-of-type {\n",
       "        vertical-align: middle;\n",
       "    }\n",
       "\n",
       "    .dataframe tbody tr th {\n",
       "        vertical-align: top;\n",
       "    }\n",
       "\n",
       "    .dataframe thead th {\n",
       "        text-align: right;\n",
       "    }\n",
       "</style>\n",
       "<table border=\"1\" class=\"dataframe\">\n",
       "  <thead>\n",
       "    <tr style=\"text-align: right;\">\n",
       "      <th></th>\n",
       "      <th>Unnamed: 1</th>\n",
       "      <th>quickstatement command</th>\n",
       "    </tr>\n",
       "  </thead>\n",
       "  <tbody>\n",
       "    <tr>\n",
       "      <th>19</th>\n",
       "      <td>Merozoíto de Plasmodium falciparum</td>\n",
       "      <td>CREATE\\nLAST|Len|\"Plasmodium falciparum merozo...</td>\n",
       "    </tr>\n",
       "    <tr>\n",
       "      <th>20</th>\n",
       "      <td>Gametócito masculino de Plasmodium falciparum</td>\n",
       "      <td>CREATE\\nLAST|Len|\"Male gametocyte of Plasmodiu...</td>\n",
       "    </tr>\n",
       "    <tr>\n",
       "      <th>21</th>\n",
       "      <td>Gametócito feminino de Plasmodium falciparum</td>\n",
       "      <td>NaN</td>\n",
       "    </tr>\n",
       "    <tr>\n",
       "      <th>22</th>\n",
       "      <td>Gameta masculino de Plasmodium falciparum</td>\n",
       "      <td>NaN</td>\n",
       "    </tr>\n",
       "    <tr>\n",
       "      <th>23</th>\n",
       "      <td>Gameta Feminino de Plasmodium falciparum</td>\n",
       "      <td>NaN</td>\n",
       "    </tr>\n",
       "  </tbody>\n",
       "</table>\n",
       "</div>"
      ],
      "text/plain": [
       "                                       Unnamed: 1  \\\n",
       "19             Merozoíto de Plasmodium falciparum   \n",
       "20  Gametócito masculino de Plasmodium falciparum   \n",
       "21   Gametócito feminino de Plasmodium falciparum   \n",
       "22      Gameta masculino de Plasmodium falciparum   \n",
       "23       Gameta Feminino de Plasmodium falciparum   \n",
       "\n",
       "                               quickstatement command  \n",
       "19  CREATE\\nLAST|Len|\"Plasmodium falciparum merozo...  \n",
       "20  CREATE\\nLAST|Len|\"Male gametocyte of Plasmodiu...  \n",
       "21                                                NaN  \n",
       "22                                                NaN  \n",
       "23                                                NaN  "
      ]
     },
     "execution_count": 10,
     "metadata": {},
     "output_type": "execute_result"
    }
   ],
   "source": [
    "data[[\"Unnamed: 1\", 'quickstatement command']].iloc[19:]"
   ]
  },
  {
   "cell_type": "code",
   "execution_count": 19,
   "metadata": {},
   "outputs": [
    {
     "name": "stdout",
     "output_type": "stream",
     "text": [
      "CREATE\n",
      "LAST|Len|\"Male gametocyte of Plasmodium falciparum\"        \n",
      "LAST|Lpt|\"Gametócito masculino de Plasmodium falciparum\"\n",
      "LAST|P31|Q189118\n",
      "LAST|P703|Q311383\n",
      "LAST|P2975|Q5\n",
      "LAST|P1365|Q66429544\n",
      "Q66429544|P1366|LAST\n",
      "\n"
     ]
    }
   ],
   "source": [
    "print(data[['quickstatement command']].iloc[20][0])"
   ]
  },
  {
   "cell_type": "code",
   "execution_count": 67,
   "metadata": {},
   "outputs": [],
   "source": [
    "def generate_qs_2(index):\n",
    "    print(\"CREATE\\n\" + \n",
    "      'LAST|Len|' + '\"' +\n",
    "      data[[\"Unnamed: 0\"]].iloc[index][0] + '\"\\n' +\n",
    "      'LAST|Lpt|' + '\"' +\n",
    "      data[[\"Unnamed: 1\"]].iloc[index][0] + '\"\\n' +\n",
    "      \"LAST|P31|Q189118\" + '\\n' +\n",
    "      \"LAST|\" + data[[\"espécie a que pertence\"]].iloc[1][0] + \"|\" + data[[\"espécie a que pertence\"]].iloc[index][0] + \"\\n\" +\n",
    "      \"LAST|\" + data[[\"hospedeiro\"]].iloc[1][0] + \"|\" + data[[\"hospedeiro\"]].iloc[index][0] + \"\\n\" + \n",
    "      \"LAST|\" + data[[\"substitui **\"]].iloc[1][0]  + \"|\" + data[[\"Unnamed: 7\"]].iloc[index-2][0] + \"\\n\" + \n",
    "      data[[\"Unnamed: 7\"]].iloc[index-2][0] + \"|\" + data[[\"é substituido por ***\"]].iloc[1][0] + \"|LAST\" \n",
    "      )\n",
    "\n",
    "\n",
    "\n"
   ]
  },
  {
   "cell_type": "code",
   "execution_count": 68,
   "metadata": {},
   "outputs": [
    {
     "name": "stdout",
     "output_type": "stream",
     "text": [
      "CREATE\n",
      "LAST|Len|\"female gametocyte of Plasmodium falciparum\"\n",
      "LAST|Lpt|\"Gametócito feminino de Plasmodium falciparum\"\n",
      "LAST|P31|Q189118\n",
      "LAST|P703|Q311383\n",
      "LAST|P2975|Q5\n",
      "LAST|P1365|Q66429544\n",
      "Q66429544|P1366|LAST\n"
     ]
    }
   ],
   "source": [
    "generate_qs_2(21)"
   ]
  },
  {
   "cell_type": "code",
   "execution_count": 97,
   "metadata": {},
   "outputs": [],
   "source": [
    "data.iat[21,7] = 'Q66486500'"
   ]
  },
  {
   "cell_type": "code",
   "execution_count": 74,
   "metadata": {},
   "outputs": [],
   "source": [
    "data.at[\"é substituido por ***\",19] = 'Q66486500'"
   ]
  },
  {
   "cell_type": "code",
   "execution_count": 81,
   "metadata": {},
   "outputs": [
    {
     "name": "stdout",
     "output_type": "stream",
     "text": [
      "CREATE\n",
      "LAST|Len|\"Male gamete of Plasmodium falciparum\"\n",
      "LAST|Lpt|\"Gameta masculino de Plasmodium falciparum\"\n",
      "LAST|P31|Q189118\n",
      "LAST|P703|Q311384\n",
      "LAST|P2975|Q158597\n",
      "LAST|P1365|Q66481302\n",
      "Q66481302|P1366|LAST\n"
     ]
    }
   ],
   "source": [
    "generate_qs_2(22)"
   ]
  },
  {
   "cell_type": "code",
   "execution_count": 99,
   "metadata": {},
   "outputs": [
    {
     "name": "stdout",
     "output_type": "stream",
     "text": [
      "CREATE\n",
      "LAST|Len|\"Female gamete of Plasmodium falciparum\"\n",
      "LAST|Lpt|\"Gameta Feminino de Plasmodium falciparum\"\n",
      "LAST|P31|Q189118\n",
      "LAST|P703|Q311385\n",
      "LAST|P2975|Q158597\n",
      "LAST|P1365|Q66486500\n",
      "Q66486500|P1366|LAST\n"
     ]
    }
   ],
   "source": [
    "generate_qs_2(23)"
   ]
  },
  {
   "cell_type": "code",
   "execution_count": 98,
   "metadata": {},
   "outputs": [
    {
     "data": {
      "text/plain": [
       "'Q66486500'"
      ]
     },
     "execution_count": 98,
     "metadata": {},
     "output_type": "execute_result"
    }
   ],
   "source": [
    "data[[\"Unnamed: 7\"]].iloc[23-2][0]"
   ]
  },
  {
   "cell_type": "code",
   "execution_count": 100,
   "metadata": {},
   "outputs": [],
   "source": [
    "data.iat[23,7] = 'Q66486518'"
   ]
  },
  {
   "cell_type": "code",
   "execution_count": 101,
   "metadata": {},
   "outputs": [],
   "source": [
    "data.iat[21,6] = 'Q66486518'"
   ]
  },
  {
   "cell_type": "markdown",
   "metadata": {},
   "source": [
    "e agora para finalizar, vou fechar o ciclo"
   ]
  },
  {
   "cell_type": "code",
   "execution_count": 105,
   "metadata": {},
   "outputs": [
    {
     "data": {
      "text/plain": [
       "'Q66486518|P1366|Q66253483'"
      ]
     },
     "execution_count": 105,
     "metadata": {},
     "output_type": "execute_result"
    }
   ],
   "source": [
    "data.iat[23,7] + \"|\" +  data[[\"é substituido por ***\"]].iloc[1][0] + \"|\" + data[[\"Unnamed: 7\"]].iloc[15][0]"
   ]
  },
  {
   "cell_type": "code",
   "execution_count": 108,
   "metadata": {},
   "outputs": [],
   "source": [
    "data.iat[22,7] = \"Q66486505\""
   ]
  },
  {
   "cell_type": "code",
   "execution_count": 109,
   "metadata": {},
   "outputs": [
    {
     "data": {
      "text/plain": [
       "'Q66486505|P1366|Q66253483'"
      ]
     },
     "execution_count": 109,
     "metadata": {},
     "output_type": "execute_result"
    }
   ],
   "source": [
    "data.iat[22,7] + \"|\" +  data[[\"é substituido por ***\"]].iloc[1][0] + \"|\" + data[[\"Unnamed: 7\"]].iloc[15][0]"
   ]
  },
  {
   "cell_type": "code",
   "execution_count": null,
   "metadata": {},
   "outputs": [],
   "source": []
  }
 ],
 "metadata": {
  "kernelspec": {
   "display_name": "Python 3",
   "language": "python",
   "name": "python3"
  },
  "language_info": {
   "codemirror_mode": {
    "name": "ipython",
    "version": 3
   },
   "file_extension": ".py",
   "mimetype": "text/x-python",
   "name": "python",
   "nbconvert_exporter": "python",
   "pygments_lexer": "ipython3",
   "version": "3.6.5"
  }
 },
 "nbformat": 4,
 "nbformat_minor": 4
}
