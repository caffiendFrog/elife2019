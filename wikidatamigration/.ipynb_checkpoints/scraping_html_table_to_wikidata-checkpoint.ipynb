{
 "cells": [
  {
   "cell_type": "markdown",
   "metadata": {},
   "source": [
    "Importing the full data table to pandas."
   ]
  },
  {
   "cell_type": "code",
   "execution_count": 19,
   "metadata": {},
   "outputs": [],
   "source": [
    "import pandas as pd\n",
    "\n",
    "page = pd.read_html(\"data/full.dataTables.html\")\n",
    "\n",
    "df = page[0]"
   ]
  },
  {
   "cell_type": "markdown",
   "metadata": {},
   "source": [
    "Getting all the rows that contains mentions to 6890, a gas chromatograph by HP/Agilent"
   ]
  },
  {
   "cell_type": "code",
   "execution_count": 39,
   "metadata": {},
   "outputs": [],
   "source": [
    "df = df[df[\"dic:instrument\"].str.contains(\"6890\").fillna(False)]"
   ]
  },
  {
   "cell_type": "markdown",
   "metadata": {},
   "source": [
    "Turning the table into a quickstaments-ready command indicating which articles used this chromatograph.\n",
    "\n",
    "I will hard code the Q-ID for HP6890 here, but this can be made in a smart way, with a dict. \n",
    "\n",
    "\"Q67145763\". The time it takes depends on internet connection. "
   ]
  },
  {
   "cell_type": "code",
   "execution_count": 56,
   "metadata": {},
   "outputs": [
    {
     "name": "stdout",
     "output_type": "stream",
     "text": [
      "Q35340706|P4510|Q67145763\n",
      "4391421\n",
      "Q44476657|P4510|Q67145763\n",
      "5668225\n"
     ]
    }
   ],
   "source": [
    "from wikidataintegrator import wdi_helpers\n",
    "\n",
    "for index, row in df.iterrows():\n",
    "    pmcid = row['articles'][3:10]\n",
    "    a = wdi_helpers.PublicationHelper(pmcid, id_type=\"pmcid\", source=\"europepmc\").get_or_create(None)\n",
    "    paper_qid = a[0]\n",
    "    print( paper_qid + \"|P4510|\" + \"Q67145763\")\n",
    "    print(pmcid)"
   ]
  }
 ],
 "metadata": {
  "kernelspec": {
   "display_name": "Python 3",
   "language": "python",
   "name": "python3"
  },
  "language_info": {
   "codemirror_mode": {
    "name": "ipython",
    "version": 3
   },
   "file_extension": ".py",
   "mimetype": "text/x-python",
   "name": "python",
   "nbconvert_exporter": "python",
   "pygments_lexer": "ipython3",
   "version": "3.7.3"
  }
 },
 "nbformat": 4,
 "nbformat_minor": 4
}
