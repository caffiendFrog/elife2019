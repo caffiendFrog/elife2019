{
 "cells": [
  {
   "cell_type": "code",
   "execution_count": 1,
   "metadata": {},
   "outputs": [],
   "source": [
    "import pandas as pd\n",
    "import numpy as np"
   ]
  },
  {
   "cell_type": "markdown",
   "metadata": {},
   "source": [
    "First it loads the spreadsheet we assembled at eLife's hackathon (https://docs.google.com/spreadsheets/d/1Pr5q3xG1SwjuZ-GhbNxWgQXk57aQfbnkuonw1OmOHSY/edit?usp=sharing)"
   ]
  },
  {
   "cell_type": "code",
   "execution_count": 2,
   "metadata": {},
   "outputs": [],
   "source": [
    "data = pd.read_csv(\"data/essential_oil_instrument_list_elife2019 - sheet 1.csv\")\n"
   ]
  },
  {
   "cell_type": "code",
   "execution_count": 3,
   "metadata": {},
   "outputs": [
    {
     "data": {
      "text/html": [
       "<div>\n",
       "<style scoped>\n",
       "    .dataframe tbody tr th:only-of-type {\n",
       "        vertical-align: middle;\n",
       "    }\n",
       "\n",
       "    .dataframe tbody tr th {\n",
       "        vertical-align: top;\n",
       "    }\n",
       "\n",
       "    .dataframe thead th {\n",
       "        text-align: right;\n",
       "    }\n",
       "</style>\n",
       "<table border=\"1\" class=\"dataframe\">\n",
       "  <thead>\n",
       "    <tr style=\"text-align: right;\">\n",
       "      <th></th>\n",
       "      <th>done</th>\n",
       "      <th>instrument</th>\n",
       "      <th>Q-number for instruments</th>\n",
       "      <th>instrument type</th>\n",
       "      <th>Q-number for instrument types</th>\n",
       "      <th>manufacturer</th>\n",
       "      <th>Q-number for manufacturer</th>\n",
       "      <th>article where it was mentioned (P4510)</th>\n",
       "    </tr>\n",
       "  </thead>\n",
       "  <tbody>\n",
       "    <tr>\n",
       "      <th>0</th>\n",
       "      <td>NaN</td>\n",
       "      <td>NaN</td>\n",
       "      <td>NaN</td>\n",
       "      <td>NaN</td>\n",
       "      <td>NaN</td>\n",
       "      <td>NaN</td>\n",
       "      <td>NaN</td>\n",
       "      <td>NaN</td>\n",
       "    </tr>\n",
       "    <tr>\n",
       "      <th>1</th>\n",
       "      <td>yes</td>\n",
       "      <td>HP6890</td>\n",
       "      <td>Q67145763</td>\n",
       "      <td>gas chromatograph</td>\n",
       "      <td>Q67145730</td>\n",
       "      <td>Agilent</td>\n",
       "      <td>Q393762</td>\n",
       "      <td>PMC4391421</td>\n",
       "    </tr>\n",
       "    <tr>\n",
       "      <th>2</th>\n",
       "      <td>yes</td>\n",
       "      <td>HP5973</td>\n",
       "      <td>Q67145846</td>\n",
       "      <td>mass spectrometrer</td>\n",
       "      <td>Q3966586</td>\n",
       "      <td>Agilent</td>\n",
       "      <td>Q393762</td>\n",
       "      <td>PMC4391421</td>\n",
       "    </tr>\n",
       "    <tr>\n",
       "      <th>3</th>\n",
       "      <td>yes</td>\n",
       "      <td>QP-5000</td>\n",
       "      <td>Q67146252</td>\n",
       "      <td>gas chromatographer and mass spectrometer</td>\n",
       "      <td>Q67145839</td>\n",
       "      <td>Shimadzu</td>\n",
       "      <td>Q517117</td>\n",
       "      <td>PMC5080681, PMC5237462</td>\n",
       "    </tr>\n",
       "    <tr>\n",
       "      <th>4</th>\n",
       "      <td>no</td>\n",
       "      <td>CW-2000</td>\n",
       "      <td>NaN</td>\n",
       "      <td>ultrasonic-microwave cooperative extractor/rea...</td>\n",
       "      <td>NaN</td>\n",
       "      <td>NaN</td>\n",
       "      <td>NaN</td>\n",
       "      <td>PMC5080681</td>\n",
       "    </tr>\n",
       "  </tbody>\n",
       "</table>\n",
       "</div>"
      ],
      "text/plain": [
       "  done instrument Q-number for instruments  \\\n",
       "0  NaN        NaN                      NaN   \n",
       "1  yes     HP6890                Q67145763   \n",
       "2  yes     HP5973                Q67145846   \n",
       "3  yes    QP-5000                Q67146252   \n",
       "4   no    CW-2000                      NaN   \n",
       "\n",
       "                                     instrument type  \\\n",
       "0                                                NaN   \n",
       "1                                  gas chromatograph   \n",
       "2                                 mass spectrometrer   \n",
       "3          gas chromatographer and mass spectrometer   \n",
       "4  ultrasonic-microwave cooperative extractor/rea...   \n",
       "\n",
       "  Q-number for instrument types manufacturer Q-number for manufacturer  \\\n",
       "0                           NaN          NaN                       NaN   \n",
       "1                     Q67145730      Agilent                   Q393762   \n",
       "2                      Q3966586      Agilent                   Q393762   \n",
       "3                     Q67145839     Shimadzu                   Q517117   \n",
       "4                           NaN          NaN                       NaN   \n",
       "\n",
       "  article where it was mentioned (P4510)  \n",
       "0                                    NaN  \n",
       "1                             PMC4391421  \n",
       "2                             PMC4391421  \n",
       "3                 PMC5080681, PMC5237462  \n",
       "4                             PMC5080681  "
      ]
     },
     "execution_count": 3,
     "metadata": {},
     "output_type": "execute_result"
    }
   ],
   "source": [
    "data.head()"
   ]
  },
  {
   "cell_type": "markdown",
   "metadata": {},
   "source": [
    "We want to get only the rows that are not done, have entries for manufacturer and instument type and not have been assigned a number"
   ]
  },
  {
   "cell_type": "code",
   "execution_count": 4,
   "metadata": {},
   "outputs": [
    {
     "name": "stdout",
     "output_type": "stream",
     "text": [
      "   done          instrument Q-number for instruments  \\\n",
      "20   no  MEGCs QP-2010 Plus                      NaN   \n",
      "\n",
      "                            instrument type Q-number for instrument types  \\\n",
      "20  gas chromatograph and mass spectrometer                     Q67145839   \n",
      "\n",
      "   manufacturer Q-number for manufacturer  \\\n",
      "20     Shimadzu                   Q517117   \n",
      "\n",
      "   article where it was mentioned (P4510)  \n",
      "20                             PMC5132230  \n"
     ]
    }
   ],
   "source": [
    "data_filtered = data.query('done==\"no\"')\n",
    "data_filtered = data_filtered[data_filtered[\"Q-number for manufacturer\"].notnull()]\n",
    "data_filtered = data_filtered[data_filtered[\"Q-number for instrument types\"].notnull()]\n",
    "data_filtered = data_filtered[data_filtered[\"Q-number for instruments\"].isnull()]\n",
    "\n",
    "print(data_filtered)\n"
   ]
  },
  {
   "cell_type": "markdown",
   "metadata": {},
   "source": [
    "Now we just extract row-wise the information. Then, we need to copy and paste it to quickstatements (https://tools.wmflabs.org/quickstatements/#/batch)."
   ]
  },
  {
   "cell_type": "code",
   "execution_count": 5,
   "metadata": {},
   "outputs": [
    {
     "name": "stdout",
     "output_type": "stream",
     "text": [
      "CREATE\n",
      "LAST|Len|\"MEGCs QP-2010 Plus\"\n",
      "LAST|Den|\"gas chromatograph and mass spectrometer manufactured by Shimadzu\"\n",
      "LAST|P31|Q67145839\n",
      "LAST|P178|Q517117\n"
     ]
    }
   ],
   "source": [
    "for index, row in data_filtered.iterrows():\n",
    "    print(\"CREATE\\n\" + \n",
    "      'LAST|Len|' + '\"' + row['instrument'] + '\"\\n' +\n",
    "      'LAST|Den|' + '\"'+ row['instrument type'] + \" manufactured by \" + row['manufacturer'] + '\"\\n' +\n",
    "      \"LAST|P31|\" + row['Q-number for instrument types'] + '\\n' +\n",
    "      \"LAST|P178|\" + row['Q-number for manufacturer'] )"
   ]
  },
  {
   "cell_type": "markdown",
   "metadata": {},
   "source": [
    "This has to be manually copied and pasted in quickstatements (https://tools.wmflabs.org/quickstatements/#/batch).\n",
    "Notice that you need to have 100+ edits in wikidata to be allowed to do batches in quickstatements."
   ]
  },
  {
   "cell_type": "markdown",
   "metadata": {},
   "source": [
    "We also would like to add the information of which projects used which equiment. For this we will use the property P4510, (describes a project that uses). This a tiny bit more complicated, as we need to get the Q-value for the paper from its PMC id.\n",
    "\n",
    "For that, we will use the wikidata integrator module, from the SuLab: \n",
    "https://github.com/SuLab/WikidataIntegrator"
   ]
  },
  {
   "cell_type": "code",
   "execution_count": 6,
   "metadata": {},
   "outputs": [],
   "source": [
    "from wikidataintegrator import wdi_helpers\n"
   ]
  },
  {
   "cell_type": "code",
   "execution_count": 8,
   "metadata": {},
   "outputs": [
    {
     "name": "stdout",
     "output_type": "stream",
     "text": [
      "CREATE\n",
      "LAST|Len|\"MEGCs QP-2010 Plus\"\n",
      "LAST|Den|\"gas chromatograph and mass spectrometer manufactured by Shimadzu\"\n",
      "LAST|P31|Q67145839\n",
      "LAST|P178|Q517117\n",
      "Q28554682|P4510|LAST\n"
     ]
    }
   ],
   "source": [
    "# Note: It might take some time depending on internet connection speed. \n",
    "\n",
    "for index, row in data_filtered.iterrows():\n",
    "    pmcid = row['article where it was mentioned (P4510)'][3:]\n",
    "    a = wdi_helpers.PublicationHelper(pmcid, id_type=\"pmcid\", source=\"europepmc\").get_or_create(None)\n",
    "    paper_q_value = a[0]\n",
    "    print(\"CREATE\\n\" + \n",
    "      'LAST|Len|' + '\"' + row['instrument'] + '\"\\n' +\n",
    "      'LAST|Den|' + '\"'+ row['instrument type'] + \" manufactured by \" + row['manufacturer'] + '\"\\n' +\n",
    "      \"LAST|P31|\" + row['Q-number for instrument types'] + '\\n' +\n",
    "      \"LAST|P178|\" + row['Q-number for manufacturer'] + '\\n' +\n",
    "       paper_q_value + \"|P4510|\" + \"LAST\")"
   ]
  },
  {
   "cell_type": "markdown",
   "metadata": {},
   "source": [
    "This will only work in quickstatements if the item has not been created already. As I had already created the item for \"MEGCs QP-2010 Plus\" (Q67204908), \n",
    "for now, I will manually add a quickstatements of the sort:  \n",
    "\n",
    "Q28554682|P4510|Q67204908"
   ]
  },
  {
   "cell_type": "code",
   "execution_count": null,
   "metadata": {},
   "outputs": [],
   "source": []
  },
  {
   "cell_type": "code",
   "execution_count": null,
   "metadata": {},
   "outputs": [],
   "source": []
  }
 ],
 "metadata": {
  "kernelspec": {
   "display_name": "Python 3",
   "language": "python",
   "name": "python3"
  },
  "language_info": {
   "codemirror_mode": {
    "name": "ipython",
    "version": 3
   },
   "file_extension": ".py",
   "mimetype": "text/x-python",
   "name": "python",
   "nbconvert_exporter": "python",
   "pygments_lexer": "ipython3",
   "version": "3.7.3"
  }
 },
 "nbformat": 4,
 "nbformat_minor": 4
}
