{
 "cells": [
  {
   "cell_type": "code",
   "execution_count": 7,
   "metadata": {},
   "outputs": [],
   "source": [
    "import pandas as pd\n",
    "import numpy as np"
   ]
  },
  {
   "cell_type": "code",
   "execution_count": 5,
   "metadata": {},
   "outputs": [],
   "source": [
    "data = pd.read_csv(\"data/essential_oil_instrument_list_elife2019 - sheet 1.csv\")\n"
   ]
  },
  {
   "cell_type": "code",
   "execution_count": 6,
   "metadata": {},
   "outputs": [
    {
     "data": {
      "text/html": [
       "<div>\n",
       "<style scoped>\n",
       "    .dataframe tbody tr th:only-of-type {\n",
       "        vertical-align: middle;\n",
       "    }\n",
       "\n",
       "    .dataframe tbody tr th {\n",
       "        vertical-align: top;\n",
       "    }\n",
       "\n",
       "    .dataframe thead th {\n",
       "        text-align: right;\n",
       "    }\n",
       "</style>\n",
       "<table border=\"1\" class=\"dataframe\">\n",
       "  <thead>\n",
       "    <tr style=\"text-align: right;\">\n",
       "      <th></th>\n",
       "      <th>done</th>\n",
       "      <th>instrument</th>\n",
       "      <th>Q-number for instruments</th>\n",
       "      <th>instrument type</th>\n",
       "      <th>Q-number for instrument types</th>\n",
       "      <th>manufacturer</th>\n",
       "      <th>Q-number for manufacturer</th>\n",
       "      <th>article where it was mentioned (P4510)</th>\n",
       "    </tr>\n",
       "  </thead>\n",
       "  <tbody>\n",
       "    <tr>\n",
       "      <th>0</th>\n",
       "      <td>NaN</td>\n",
       "      <td>NaN</td>\n",
       "      <td>NaN</td>\n",
       "      <td>NaN</td>\n",
       "      <td>NaN</td>\n",
       "      <td>NaN</td>\n",
       "      <td>NaN</td>\n",
       "      <td>NaN</td>\n",
       "    </tr>\n",
       "    <tr>\n",
       "      <th>1</th>\n",
       "      <td>yes</td>\n",
       "      <td>HP6890</td>\n",
       "      <td>Q67145763</td>\n",
       "      <td>gas chromatograph</td>\n",
       "      <td>Q67145730</td>\n",
       "      <td>Agilent</td>\n",
       "      <td>Q393762</td>\n",
       "      <td>PMC4391421</td>\n",
       "    </tr>\n",
       "    <tr>\n",
       "      <th>2</th>\n",
       "      <td>yes</td>\n",
       "      <td>HP5973</td>\n",
       "      <td>Q67145846</td>\n",
       "      <td>mass spectrometrer</td>\n",
       "      <td>Q3966586</td>\n",
       "      <td>Agilent</td>\n",
       "      <td>Q393762</td>\n",
       "      <td>PMC4391421</td>\n",
       "    </tr>\n",
       "    <tr>\n",
       "      <th>3</th>\n",
       "      <td>yes</td>\n",
       "      <td>QP-5000</td>\n",
       "      <td>Q67146252</td>\n",
       "      <td>gas chromatographer and mass spectrometer</td>\n",
       "      <td>Q67145839</td>\n",
       "      <td>Shimadzu</td>\n",
       "      <td>Q517117</td>\n",
       "      <td>PMC5080681, PMC5237462</td>\n",
       "    </tr>\n",
       "    <tr>\n",
       "      <th>4</th>\n",
       "      <td>no</td>\n",
       "      <td>CW-2000</td>\n",
       "      <td>NaN</td>\n",
       "      <td>ultrasonic-microwave cooperative extractor/rea...</td>\n",
       "      <td>NaN</td>\n",
       "      <td>NaN</td>\n",
       "      <td>NaN</td>\n",
       "      <td>PMC5080681</td>\n",
       "    </tr>\n",
       "  </tbody>\n",
       "</table>\n",
       "</div>"
      ],
      "text/plain": [
       "  done instrument Q-number for instruments  \\\n",
       "0  NaN        NaN                      NaN   \n",
       "1  yes     HP6890                Q67145763   \n",
       "2  yes     HP5973                Q67145846   \n",
       "3  yes    QP-5000                Q67146252   \n",
       "4   no    CW-2000                      NaN   \n",
       "\n",
       "                                     instrument type  \\\n",
       "0                                                NaN   \n",
       "1                                  gas chromatograph   \n",
       "2                                 mass spectrometrer   \n",
       "3          gas chromatographer and mass spectrometer   \n",
       "4  ultrasonic-microwave cooperative extractor/rea...   \n",
       "\n",
       "  Q-number for instrument types manufacturer Q-number for manufacturer  \\\n",
       "0                           NaN          NaN                       NaN   \n",
       "1                     Q67145730      Agilent                   Q393762   \n",
       "2                      Q3966586      Agilent                   Q393762   \n",
       "3                     Q67145839     Shimadzu                   Q517117   \n",
       "4                           NaN          NaN                       NaN   \n",
       "\n",
       "  article where it was mentioned (P4510)  \n",
       "0                                    NaN  \n",
       "1                             PMC4391421  \n",
       "2                             PMC4391421  \n",
       "3                 PMC5080681, PMC5237462  \n",
       "4                             PMC5080681  "
      ]
     },
     "execution_count": 6,
     "metadata": {},
     "output_type": "execute_result"
    }
   ],
   "source": [
    "data.head()"
   ]
  },
  {
   "cell_type": "code",
   "execution_count": 25,
   "metadata": {},
   "outputs": [
    {
     "name": "stdout",
     "output_type": "stream",
     "text": [
      "   done              instrument Q-number for instruments  \\\n",
      "5    no  Heidolph OB2000 VV2000                      NaN   \n",
      "15   no          GCMS-TQ8050 NX                      NaN   \n",
      "16   no          GCMS-TQ8040 NX                      NaN   \n",
      "17   no          GCMS-QP2020 NX                      NaN   \n",
      "18   no          GCMS-QP2010 SE                      NaN   \n",
      "\n",
      "                              instrument type Q-number for instrument types  \\\n",
      "5                           rotary evaporator                           NaN   \n",
      "15  gas chromatographer and mass spectrometer                     Q67145839   \n",
      "16  gas chromatographer and mass spectrometer                     Q67145839   \n",
      "17  gas chromatographer and mass spectrometer                     Q67145839   \n",
      "18  gas chromatographer and mass spectrometer                     Q67145839   \n",
      "\n",
      "   manufacturer Q-number for manufacturer  \\\n",
      "5      Heidolph                  Q5699017   \n",
      "15     Shimadzu                   Q517117   \n",
      "16     Shimadzu                   Q517117   \n",
      "17     Shimadzu                   Q517117   \n",
      "18     Shimadzu                   Q517117   \n",
      "\n",
      "   article where it was mentioned (P4510)  \n",
      "5                              PMC5080681  \n",
      "15                           paper corpus  \n",
      "16                           paper corpus  \n",
      "17                           paper corpus  \n",
      "18                           paper corpus  \n"
     ]
    }
   ],
   "source": [
    "data_filtered = data.query('done==\"no\"')\n",
    "data_filtered = data_filtered[data_filtered[\"Q-number for manufacturer\"].notnull()]\n",
    "data_filtered = data_filtered[data_filtered[\"Q-number for instrument types\"].notnull()]\n",
    "data_filtered = data_filtered[data_filtered[\"Q-number for instruments\"].isnull()]\n",
    "\n",
    "print(data_filtered)\n"
   ]
  },
  {
   "cell_type": "code",
   "execution_count": null,
   "metadata": {},
   "outputs": [],
   "source": []
  }
 ],
 "metadata": {
  "kernelspec": {
   "display_name": "Python 3",
   "language": "python",
   "name": "python3"
  },
  "language_info": {
   "codemirror_mode": {
    "name": "ipython",
    "version": 3
   },
   "file_extension": ".py",
   "mimetype": "text/x-python",
   "name": "python",
   "nbconvert_exporter": "python",
   "pygments_lexer": "ipython3",
   "version": "3.7.3"
  }
 },
 "nbformat": 4,
 "nbformat_minor": 4
}
