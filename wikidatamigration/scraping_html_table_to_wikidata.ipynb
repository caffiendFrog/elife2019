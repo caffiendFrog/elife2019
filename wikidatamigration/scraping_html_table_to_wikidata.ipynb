{
 "cells": [
  {
   "cell_type": "markdown",
   "metadata": {},
   "source": [
    "Importing the full data table to pandas."
   ]
  },
  {
   "cell_type": "code",
   "execution_count": null,
   "metadata": {},
   "outputs": [],
   "source": []
  },
  {
   "cell_type": "code",
   "execution_count": 2,
   "metadata": {},
   "outputs": [
    {
     "data": {
      "text/html": [
       "<div>\n",
       "<style scoped>\n",
       "    .dataframe tbody tr th:only-of-type {\n",
       "        vertical-align: middle;\n",
       "    }\n",
       "\n",
       "    .dataframe tbody tr th {\n",
       "        vertical-align: top;\n",
       "    }\n",
       "\n",
       "    .dataframe thead th {\n",
       "        text-align: right;\n",
       "    }\n",
       "</style>\n",
       "<table border=\"1\" class=\"dataframe\">\n",
       "  <thead>\n",
       "    <tr style=\"text-align: right;\">\n",
       "      <th></th>\n",
       "      <th>articles</th>\n",
       "      <th>bibliography</th>\n",
       "      <th>dic:compound</th>\n",
       "      <th>dic:country</th>\n",
       "      <th>dic:disease</th>\n",
       "      <th>dic:instrument</th>\n",
       "      <th>species:binomial</th>\n",
       "      <th>word:frequencies</th>\n",
       "    </tr>\n",
       "  </thead>\n",
       "  <tbody>\n",
       "    <tr>\n",
       "      <th>0</th>\n",
       "      <td>PMC4391421  local</td>\n",
       "      <td>titl: Thymus vulgaris essential oil: ...  date...</td>\n",
       "      <td>cymene</td>\n",
       "      <td>Romania x 4  Morocco x 2  Italy x 2  Spain x 2...</td>\n",
       "      <td>NaN</td>\n",
       "      <td>HP6890  Clevenger</td>\n",
       "      <td>NaN</td>\n",
       "      <td>NaN</td>\n",
       "    </tr>\n",
       "    <tr>\n",
       "      <th>1</th>\n",
       "      <td>PMC5080681  local</td>\n",
       "      <td>titl: Chemical composition, anthelmi ...  date...</td>\n",
       "      <td>3-octanol x 3  3-octanone x 2  acetate  mentho...</td>\n",
       "      <td>Egypt x 2  Netherlands</td>\n",
       "      <td>cancer x 2</td>\n",
       "      <td>Shimadzu  QP-5000  Clevenger</td>\n",
       "      <td>Thymus bovei x 44  Candida albicans x 6  Esche...</td>\n",
       "      <td>used x 28  oil x 53  essential x 66  activity ...</td>\n",
       "    </tr>\n",
       "    <tr>\n",
       "      <th>2</th>\n",
       "      <td>PMC5132230  local</td>\n",
       "      <td>titl: Chemical Composition, an Antio ...  date...</td>\n",
       "      <td>acetate x 3</td>\n",
       "      <td>Brazil x 3  Turkey  Serbia</td>\n",
       "      <td>diarrhea</td>\n",
       "      <td>Shimadzu  Clevenger</td>\n",
       "      <td>Aeollanthus suaveolens x 24  Escherichia coli ...</td>\n",
       "      <td>antioxidant x 24  oil x 41  activity x 37  sua...</td>\n",
       "    </tr>\n",
       "    <tr>\n",
       "      <th>3</th>\n",
       "      <td>PMC5203915  local</td>\n",
       "      <td>titl: The Essential Oils of Rhaponti ...  date...</td>\n",
       "      <td>aplotaxene x 5  cadalene x 4  petasitene x 2  ...</td>\n",
       "      <td>Poland x 3  Czech Republic  Germany</td>\n",
       "      <td>multiple sclerosis, x 2  glioma x 2  leukemia ...</td>\n",
       "      <td>NaN</td>\n",
       "      <td>Rhaponticum carthamoides x 40  Enterococcus fa...</td>\n",
       "      <td>IL-, x 31  hairy x 29  essential x 146  astroc...</td>\n",
       "    </tr>\n",
       "    <tr>\n",
       "      <th>4</th>\n",
       "      <td>PMC5237462  local</td>\n",
       "      <td>titl: Chemical Composition and In Vi ...  date...</td>\n",
       "      <td>menthol x 5  carvacrol x 2  sesquiphellandrene...</td>\n",
       "      <td>Brazil x 7  Switzerland x 2  Argentina  Morocc...</td>\n",
       "      <td>dengue fever  arthritis  hepatocellular carcinoma</td>\n",
       "      <td>Shimadzu x 2  QP</td>\n",
       "      <td>Mentha piperita x 24  Artemia salina x 5  Esch...</td>\n",
       "      <td>oil x 42  oils x 28  essential x 71  piperita ...</td>\n",
       "    </tr>\n",
       "  </tbody>\n",
       "</table>\n",
       "</div>"
      ],
      "text/plain": [
       "            articles                                       bibliography  \\\n",
       "0  PMC4391421  local  titl: Thymus vulgaris essential oil: ...  date...   \n",
       "1  PMC5080681  local  titl: Chemical composition, anthelmi ...  date...   \n",
       "2  PMC5132230  local  titl: Chemical Composition, an Antio ...  date...   \n",
       "3  PMC5203915  local  titl: The Essential Oils of Rhaponti ...  date...   \n",
       "4  PMC5237462  local  titl: Chemical Composition and In Vi ...  date...   \n",
       "\n",
       "                                        dic:compound  \\\n",
       "0                                             cymene   \n",
       "1  3-octanol x 3  3-octanone x 2  acetate  mentho...   \n",
       "2                                        acetate x 3   \n",
       "3  aplotaxene x 5  cadalene x 4  petasitene x 2  ...   \n",
       "4  menthol x 5  carvacrol x 2  sesquiphellandrene...   \n",
       "\n",
       "                                         dic:country  \\\n",
       "0  Romania x 4  Morocco x 2  Italy x 2  Spain x 2...   \n",
       "1                             Egypt x 2  Netherlands   \n",
       "2                         Brazil x 3  Turkey  Serbia   \n",
       "3                Poland x 3  Czech Republic  Germany   \n",
       "4  Brazil x 7  Switzerland x 2  Argentina  Morocc...   \n",
       "\n",
       "                                         dic:disease  \\\n",
       "0                                                NaN   \n",
       "1                                         cancer x 2   \n",
       "2                                           diarrhea   \n",
       "3  multiple sclerosis, x 2  glioma x 2  leukemia ...   \n",
       "4  dengue fever  arthritis  hepatocellular carcinoma   \n",
       "\n",
       "                 dic:instrument  \\\n",
       "0             HP6890  Clevenger   \n",
       "1  Shimadzu  QP-5000  Clevenger   \n",
       "2           Shimadzu  Clevenger   \n",
       "3                           NaN   \n",
       "4              Shimadzu x 2  QP   \n",
       "\n",
       "                                    species:binomial  \\\n",
       "0                                                NaN   \n",
       "1  Thymus bovei x 44  Candida albicans x 6  Esche...   \n",
       "2  Aeollanthus suaveolens x 24  Escherichia coli ...   \n",
       "3  Rhaponticum carthamoides x 40  Enterococcus fa...   \n",
       "4  Mentha piperita x 24  Artemia salina x 5  Esch...   \n",
       "\n",
       "                                    word:frequencies  \n",
       "0                                                NaN  \n",
       "1  used x 28  oil x 53  essential x 66  activity ...  \n",
       "2  antioxidant x 24  oil x 41  activity x 37  sua...  \n",
       "3  IL-, x 31  hairy x 29  essential x 146  astroc...  \n",
       "4  oil x 42  oils x 28  essential x 71  piperita ...  "
      ]
     },
     "execution_count": 2,
     "metadata": {},
     "output_type": "execute_result"
    }
   ],
   "source": [
    "import pandas as pd\n",
    "\n",
    "page = pd.read_html(\"data/full.dataTables.html\")\n",
    "\n",
    "df = page[0]\n",
    "df.head()"
   ]
  },
  {
   "cell_type": "markdown",
   "metadata": {},
   "source": [
    "Getting all the rows that contains mentions to 6890, a gas chromatograph by HP/Agilent"
   ]
  },
  {
   "cell_type": "code",
   "execution_count": 9,
   "metadata": {},
   "outputs": [],
   "source": [
    "df1 = df[df[\"dic:instrument\"].str.contains(\"6890\").fillna(False)]"
   ]
  },
  {
   "cell_type": "markdown",
   "metadata": {},
   "source": [
    "Turning the table into a quickstaments-ready command indicating which articles used this chromatograph.\n",
    "\n",
    "I will hard code the Q-ID for HP6890 here, but this can be made in a smart way, with a dict. \n",
    "\n",
    "\"Q67145763\". The time it takes depends on internet connection. "
   ]
  },
  {
   "cell_type": "code",
   "execution_count": 10,
   "metadata": {},
   "outputs": [
    {
     "name": "stdout",
     "output_type": "stream",
     "text": [
      "Q35340706|P4510|Q67145763\n",
      "4391421\n",
      "Q44476657|P4510|Q67145763\n",
      "5668225\n"
     ]
    }
   ],
   "source": [
    "from wikidataintegrator import wdi_helpers\n",
    "\n",
    "for index, row in df1.iterrows():\n",
    "    pmcid = row['articles'][3:10]\n",
    "    a = wdi_helpers.PublicationHelper(pmcid, id_type=\"pmcid\", source=\"europepmc\").get_or_create(None)\n",
    "    paper_qid = a[0]\n",
    "    print( paper_qid + \"|P4510|\" + \"Q67145763\")\n",
    "    print(pmcid)"
   ]
  },
  {
   "cell_type": "markdown",
   "metadata": {},
   "source": [
    "I will do the same for another equipment, QP-5000"
   ]
  },
  {
   "cell_type": "code",
   "execution_count": 11,
   "metadata": {},
   "outputs": [
    {
     "data": {
      "text/html": [
       "<div>\n",
       "<style scoped>\n",
       "    .dataframe tbody tr th:only-of-type {\n",
       "        vertical-align: middle;\n",
       "    }\n",
       "\n",
       "    .dataframe tbody tr th {\n",
       "        vertical-align: top;\n",
       "    }\n",
       "\n",
       "    .dataframe thead th {\n",
       "        text-align: right;\n",
       "    }\n",
       "</style>\n",
       "<table border=\"1\" class=\"dataframe\">\n",
       "  <thead>\n",
       "    <tr style=\"text-align: right;\">\n",
       "      <th></th>\n",
       "      <th>articles</th>\n",
       "      <th>bibliography</th>\n",
       "      <th>dic:compound</th>\n",
       "      <th>dic:country</th>\n",
       "      <th>dic:disease</th>\n",
       "      <th>dic:instrument</th>\n",
       "      <th>species:binomial</th>\n",
       "      <th>word:frequencies</th>\n",
       "    </tr>\n",
       "  </thead>\n",
       "  <tbody>\n",
       "    <tr>\n",
       "      <th>1</th>\n",
       "      <td>PMC5080681  local</td>\n",
       "      <td>titl: Chemical composition, anthelmi ...  date...</td>\n",
       "      <td>3-octanol x 3  3-octanone x 2  acetate  mentho...</td>\n",
       "      <td>Egypt x 2  Netherlands</td>\n",
       "      <td>cancer x 2</td>\n",
       "      <td>Shimadzu  QP-5000  Clevenger</td>\n",
       "      <td>Thymus bovei x 44  Candida albicans x 6  Esche...</td>\n",
       "      <td>used x 28  oil x 53  essential x 66  activity ...</td>\n",
       "    </tr>\n",
       "    <tr>\n",
       "      <th>72</th>\n",
       "      <td>PMC5694611  local</td>\n",
       "      <td>titl: Variability of Chemical Compos ...  date...</td>\n",
       "      <td>acetate x 7  2-undecanone x 2  alcohol  mentho...</td>\n",
       "      <td>Greece x 2  Lebanon x 2  Saudi Arabia x 2  Tun...</td>\n",
       "      <td>cancer</td>\n",
       "      <td>Shimadzu  QP-5000  Clevenger</td>\n",
       "      <td>Ruta chalepensis x 63  Candida albicans x 6  S...</td>\n",
       "      <td>antioxidant x 37  Essential x 24  Jenin x 21  ...</td>\n",
       "    </tr>\n",
       "  </tbody>\n",
       "</table>\n",
       "</div>"
      ],
      "text/plain": [
       "             articles                                       bibliography  \\\n",
       "1   PMC5080681  local  titl: Chemical composition, anthelmi ...  date...   \n",
       "72  PMC5694611  local  titl: Variability of Chemical Compos ...  date...   \n",
       "\n",
       "                                         dic:compound  \\\n",
       "1   3-octanol x 3  3-octanone x 2  acetate  mentho...   \n",
       "72  acetate x 7  2-undecanone x 2  alcohol  mentho...   \n",
       "\n",
       "                                          dic:country dic:disease  \\\n",
       "1                              Egypt x 2  Netherlands  cancer x 2   \n",
       "72  Greece x 2  Lebanon x 2  Saudi Arabia x 2  Tun...      cancer   \n",
       "\n",
       "                  dic:instrument  \\\n",
       "1   Shimadzu  QP-5000  Clevenger   \n",
       "72  Shimadzu  QP-5000  Clevenger   \n",
       "\n",
       "                                     species:binomial  \\\n",
       "1   Thymus bovei x 44  Candida albicans x 6  Esche...   \n",
       "72  Ruta chalepensis x 63  Candida albicans x 6  S...   \n",
       "\n",
       "                                     word:frequencies  \n",
       "1   used x 28  oil x 53  essential x 66  activity ...  \n",
       "72  antioxidant x 37  Essential x 24  Jenin x 21  ...  "
      ]
     },
     "execution_count": 11,
     "metadata": {},
     "output_type": "execute_result"
    }
   ],
   "source": [
    "df2 = df[df[\"dic:instrument\"].str.contains(\"5000\").fillna(False)]\n",
    "df2.head()"
   ]
  },
  {
   "cell_type": "code",
   "execution_count": 13,
   "metadata": {},
   "outputs": [
    {
     "name": "stdout",
     "output_type": "stream",
     "text": [
      "Q28821009|P4510|Q67146252\n",
      "5080681\n",
      "Q47136913|P4510|Q67146252\n",
      "5694611\n"
     ]
    }
   ],
   "source": [
    "from wikidataintegrator import wdi_helpers\n",
    "\n",
    "for index, row in df2.iterrows():\n",
    "    pmcid = row['articles'][3:10]\n",
    "    a = wdi_helpers.PublicationHelper(pmcid, id_type=\"pmcid\", source=\"europepmc\").get_or_create(None)\n",
    "    paper_qid = a[0]\n",
    "    print( paper_qid + \"|P4510|\" + \"Q67146252\")\n",
    "    print(pmcid)"
   ]
  },
  {
   "cell_type": "markdown",
   "metadata": {},
   "source": [
    "One more: GCMS-QP2010 SEinglês (Q67148238)\n"
   ]
  },
  {
   "cell_type": "code",
   "execution_count": 3,
   "metadata": {},
   "outputs": [
    {
     "name": "stdout",
     "output_type": "stream",
     "text": [
      "Q28821009|P4510|Q67148238\n",
      "5080681\n",
      "Q47136913|P4510|Q67148238\n",
      "5694611\n"
     ]
    }
   ],
   "source": [
    "df3 = df[df[\"dic:instrument\"].str.contains(\"5000\").fillna(False)]\n",
    "df3.head()\n",
    "\n",
    "from wikidataintegrator import wdi_helpers\n",
    "for index, row in df3.iterrows():\n",
    "    pmcid = row['articles'][3:10]\n",
    "    a = wdi_helpers.PublicationHelper(pmcid, id_type=\"pmcid\", source=\"europepmc\").get_or_create(None)\n",
    "    paper_qid = a[0]\n",
    "    print( paper_qid + \"|P4510|\" + \"Q67148238\")\n",
    "    print(pmcid)"
   ]
  },
  {
   "cell_type": "code",
   "execution_count": null,
   "metadata": {},
   "outputs": [],
   "source": []
  }
 ],
 "metadata": {
  "kernelspec": {
   "display_name": "Python 3",
   "language": "python",
   "name": "python3"
  },
  "language_info": {
   "codemirror_mode": {
    "name": "ipython",
    "version": 3
   },
   "file_extension": ".py",
   "mimetype": "text/x-python",
   "name": "python",
   "nbconvert_exporter": "python",
   "pygments_lexer": "ipython3",
   "version": "3.6.5"
  }
 },
 "nbformat": 4,
 "nbformat_minor": 4
}
